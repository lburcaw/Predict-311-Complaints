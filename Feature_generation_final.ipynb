{
 "metadata": {
  "name": "",
  "signature": "sha256:7b8eb48b0a926bdc1c7e766b4523bd0fbf18bf0f9ca0a1796e38f57c0ab29f41"
 },
 "nbformat": 3,
 "nbformat_minor": 0,
 "worksheets": [
  {
   "cells": [
    {
     "cell_type": "code",
     "collapsed": false,
     "input": [
      "%matplotlib inline \n",
      "\n",
      "from IPython.display import Image\n",
      "import matplotlib as mlp\n",
      "import matplotlib.pyplot as plt\n",
      "import numpy as np\n",
      "import pandas as pd\n",
      "import sklearn\n",
      "import pymysql as mdb\n",
      "import seaborn as sns\n",
      "import binning as bn\n",
      "from collections import Counter\n",
      "\n",
      "from sklearn import ensemble\n",
      "from sklearn import metrics\n",
      "from sklearn import preprocessing\n",
      "from sklearn.cross_validation import train_test_split\n",
      "\n",
      "pd.set_option('display.max_columns', None) # Display any number of columns"
     ],
     "language": "python",
     "metadata": {},
     "outputs": [],
     "prompt_number": 1
    },
    {
     "cell_type": "code",
     "collapsed": false,
     "input": [
      "#Load data\n",
      "df_blg = pd.read_csv('blg_cleaned_lbd.csv')\n",
      "df_st = pd.read_csv('st_cleaned_lbd.csv')\n",
      "df_vm = pd.read_csv('vm_cleaned_lbd.csv')\n",
      "df_nz = pd.read_csv('nz_cleaned_lbd.csv')"
     ],
     "language": "python",
     "metadata": {},
     "outputs": [],
     "prompt_number": 2
    },
    {
     "cell_type": "code",
     "collapsed": false,
     "input": [
      "# Concatenate all data to one dataframe\n",
      "pieces = [df_blg,df_vm,df_nz,df_st]\n",
      "df_all = pd.concat(pieces,axis=0)\n",
      "\n",
      "# Pull out years between 2010 and 2014\n",
      "df_all = df_all[df_all['Created Year'] > 2009]\n",
      "df_all = df_all[df_all['Created Year'] < 2015]"
     ],
     "language": "python",
     "metadata": {},
     "outputs": [],
     "prompt_number": 3
    },
    {
     "cell_type": "code",
     "collapsed": false,
     "input": [
      "# Calculate number of complaints at a location (Not used in final product)\n",
      "df_all['latlngzip'] = zip(df_all.Latitude,df_all.Longitude)\n",
      "latlngzip = list(df_all.latlngzip)\n",
      "counts = Counter(latlngzip)\n",
      "df_all['numrepeats'] = df_all.latlngzip.map(counts)"
     ],
     "language": "python",
     "metadata": {},
     "outputs": [],
     "prompt_number": 4
    },
    {
     "cell_type": "code",
     "collapsed": false,
     "input": [
      "# Define labels and encode\n",
      "y = df_all['Main Label']\n",
      "label_encoder = preprocessing.LabelEncoder()\n",
      "y = label_encoder.fit_transform(y)"
     ],
     "language": "python",
     "metadata": {},
     "outputs": [],
     "prompt_number": 8
    },
    {
     "cell_type": "code",
     "collapsed": false,
     "input": [
      "#Drop unused columns in df\n",
      "df = df_all.drop(['Created Date','Complaint Type','Descriptor','City','Main Label','Sublabel','main_label_ints',\n",
      "                 'sublabel_ints','Created Hour'],axis=1)#,'latlngzip'],axis=1)"
     ],
     "language": "python",
     "metadata": {},
     "outputs": [],
     "prompt_number": 9
    },
    {
     "cell_type": "code",
     "collapsed": false,
     "input": [
      "#Define the features, convert to polynomial floats\n",
      "X = df[['Latitude','Longitude','Created Day of Year']]#,'numrepeats']]\n",
      "X = X.as_matrix().astype(np.float)\n",
      "polynomial_features = preprocessing.PolynomialFeatures()\n",
      "X = polynomial_features.fit_transform(X)"
     ],
     "language": "python",
     "metadata": {},
     "outputs": [],
     "prompt_number": 10
    },
    {
     "cell_type": "code",
     "collapsed": false,
     "input": [
      "# Set up k-fold CV\n",
      "from sklearn import cross_validation\n",
      "def stratified_cv(X, y, clf_class, shuffle=True, n_folds=10, **kwargs):\n",
      "    stratified_k_fold = cross_validation.StratifiedKFold(y, n_folds=n_folds, shuffle=shuffle)\n",
      "    y_pred = y.copy()\n",
      "    for ii, jj in stratified_k_fold:\n",
      "        X_train, X_test = X[ii], X[jj]\n",
      "        y_train = y[ii]\n",
      "        clf = clf_class(**kwargs)\n",
      "        clf.fit(X_train,y_train)\n",
      "        y_pred[jj] = clf.predict(X_test)\n",
      "    return y_pred"
     ],
     "language": "python",
     "metadata": {},
     "outputs": [],
     "prompt_number": 15
    },
    {
     "cell_type": "code",
     "collapsed": false,
     "input": [
      "# Test model\n",
      "RF_pred = stratified_cv(X, y, ensemble.RandomForestClassifier)\n",
      "\n",
      "#check accuracy\n",
      "acc = metrics.accuracy_score(y, stratified_cv(X, y,clf))"
     ],
     "language": "python",
     "metadata": {},
     "outputs": [],
     "prompt_number": 16
    },
    {
     "cell_type": "code",
     "collapsed": false,
     "input": [
      "# Define train and test set for training\n",
      "X_train, X_test, y_train, y_test = train_test_split(X, y, test_size=0.25)"
     ],
     "language": "python",
     "metadata": {},
     "outputs": [],
     "prompt_number": 12
    },
    {
     "cell_type": "code",
     "collapsed": false,
     "input": [
      "# Train model\n",
      "clf = ensemble.RandomForestClassifier(n_jobs=3,n_estimators=30,max_features=None)\n",
      "rf_predict = clf.fit(X_train,y_train).predict(X_test)"
     ],
     "language": "python",
     "metadata": {},
     "outputs": [],
     "prompt_number": 13
    },
    {
     "cell_type": "code",
     "collapsed": false,
     "input": [
      "print clf.score(X_test, y_test, sample_weight=None)"
     ],
     "language": "python",
     "metadata": {},
     "outputs": [
      {
       "output_type": "stream",
       "stream": "stdout",
       "text": [
        "0.804328808129\n"
       ]
      }
     ],
     "prompt_number": 18
    },
    {
     "cell_type": "code",
     "collapsed": false,
     "input": [
      "print metrics.classification_report(y_test, rf_predict)"
     ],
     "language": "python",
     "metadata": {},
     "outputs": []
    },
    {
     "cell_type": "code",
     "collapsed": false,
     "input": [
      "# Save model\n",
      "from sklearn.externals import joblib\n",
      "joblib.dump(clf, 'model/rf_3feat_30trees.pkl',compress=9) "
     ],
     "language": "python",
     "metadata": {},
     "outputs": [
      {
       "metadata": {},
       "output_type": "pyout",
       "prompt_number": 51,
       "text": [
        "['model/rf_3feat_30trees.pkl']"
       ]
      }
     ],
     "prompt_number": 51
    }
   ],
   "metadata": {}
  }
 ]
}